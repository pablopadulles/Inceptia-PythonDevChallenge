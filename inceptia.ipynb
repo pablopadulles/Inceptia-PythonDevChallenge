{
 "cells": [
  {
   "attachments": {},
   "cell_type": "markdown",
   "metadata": {},
   "source": [
    "# Ejercicio 1"
   ]
  },
  {
   "cell_type": "code",
   "execution_count": 33,
   "metadata": {},
   "outputs": [],
   "source": [
    "import requests\n",
    "\n",
    "class GeoAPI:\n",
    "    API_KEY = \"d81015613923e3e435231f2740d5610b\"\n",
    "    LAT = \"-35.836948753554054\"\n",
    "    LON = \"-61.870523905384076\"\n",
    "\n",
    "    @classmethod\n",
    "    def is_hot_in_pehuajo(cls):\n",
    "        url = 'https://api.openweathermap.org/data/2.5/weather?lat={lat}&lon={lon}&appid={APIkey}&units=metric'.format(lat = '-35.836948753554054', lon = '-61.870523905384076', APIkey = 'd81015613923e3e435231f2740d5610b')\n",
    "        try: \n",
    "            request = requests.get(url)\n",
    "            res = request.json().get('main', {}).get('temp', False)\n",
    "            return res > 28\n",
    "        except:\n",
    "            return False\n"
   ]
  },
  {
   "attachments": {},
   "cell_type": "markdown",
   "metadata": {},
   "source": [
    "## Test"
   ]
  },
  {
   "cell_type": "code",
   "execution_count": 38,
   "metadata": {},
   "outputs": [
    {
     "data": {
      "text/plain": [
       "False"
      ]
     },
     "execution_count": 38,
     "metadata": {},
     "output_type": "execute_result"
    }
   ],
   "source": [
    "GeoAPI().is_hot_in_pehuajo()"
   ]
  },
  {
   "attachments": {},
   "cell_type": "markdown",
   "metadata": {},
   "source": [
    "# Ejercicio 2"
   ]
  },
  {
   "cell_type": "code",
   "execution_count": null,
   "metadata": {},
   "outputs": [],
   "source": [
    "import pandas as pd\n",
    "\n",
    "_PRODUCT_DF = pd.DataFrame({\"product_name\": [\"Chocolate\",\n",
    "    \"Granizado\", \"Limon\", \"Dulce de Leche\"], \"quantity\":\n",
    "    [3,10,0,5]})\n",
    "\n",
    "def is_product_available(product_name, quantity):\n",
    "    pass"
   ]
  },
  {
   "attachments": {},
   "cell_type": "markdown",
   "metadata": {},
   "source": [
    "# Ejercicio 3"
   ]
  },
  {
   "cell_type": "code",
   "execution_count": null,
   "metadata": {},
   "outputs": [],
   "source": [
    "_AVAILABLE_DISCOUNT_CODES = [\"Primavera2021\", \"Verano2021\",\n",
    "    \"Navidad2x1\", \"heladoFrozen\"]\n",
    "\n",
    "def validate_discount_code(discount_code):\n",
    "    \"\"\"\n",
    "    Ejemplo:\n",
    "    \"primavera2021\" deberia devolver True, ya que al compararlo:\n",
    "    vs \"Primavera2021\" = 2 caracteres de diferencia (\"p\" y \"P\")\n",
    "    vs \"Verano2021\" = 7 caracteres de diferencia ('i', 'n', 'o',\n",
    "    'm', 'V', 'p', 'v')\n",
    "    vs \"Navidad2x1\" = 8 caracteres de diferencia ('N', 'm', '0',\n",
    "    'x', 'e', 'd', 'p', 'r')\n",
    "    vs \"heladoFrozen\" = 14 caracteres de diferencia ('z', 'i',\n",
    "    'v', 'n', 'o', 'm', '2', '0', 'd', 'p', '1', 'F', 'h', 'l')\n",
    "    \"\"\""
   ]
  }
 ],
 "metadata": {
  "kernelspec": {
   "display_name": "jupyter",
   "language": "python",
   "name": "python3"
  },
  "language_info": {
   "codemirror_mode": {
    "name": "ipython",
    "version": 3
   },
   "file_extension": ".py",
   "mimetype": "text/x-python",
   "name": "python",
   "nbconvert_exporter": "python",
   "pygments_lexer": "ipython3",
   "version": "3.9.10"
  },
  "orig_nbformat": 4
 },
 "nbformat": 4,
 "nbformat_minor": 2
}
